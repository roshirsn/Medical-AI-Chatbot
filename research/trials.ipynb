{
 "cells": [
  {
   "cell_type": "code",
   "execution_count": 12,
   "id": "4983bc83",
   "metadata": {},
   "outputs": [
    {
     "data": {
      "text/plain": [
       "'d:\\\\CDAC\\\\RSN\\\\PROJECT\\\\Medical-AI-Chatbot\\\\research'"
      ]
     },
     "execution_count": 12,
     "metadata": {},
     "output_type": "execute_result"
    }
   ],
   "source": [
    "%pwd"
   ]
  },
  {
   "cell_type": "code",
   "execution_count": 18,
   "id": "bf218b4b",
   "metadata": {},
   "outputs": [],
   "source": [
    "import os\n",
    "os.chdir(\"../\")"
   ]
  },
  {
   "cell_type": "code",
   "execution_count": 19,
   "id": "54f90e27",
   "metadata": {},
   "outputs": [
    {
     "data": {
      "text/plain": [
       "'d:\\\\CDAC\\\\RSN\\\\PROJECT\\\\Medical-AI-Chatbot'"
      ]
     },
     "execution_count": 19,
     "metadata": {},
     "output_type": "execute_result"
    }
   ],
   "source": [
    "%pwd"
   ]
  },
  {
   "cell_type": "markdown",
   "id": "339b6f69",
   "metadata": {},
   "source": [
    "# pdf data extraction"
   ]
  },
  {
   "cell_type": "code",
   "execution_count": 20,
   "id": "e8f9a3f0",
   "metadata": {},
   "outputs": [],
   "source": [
    "from langchain.document_loaders import PyPDFLoader, DirectoryLoader\n",
    "from langchain_text_splitters import RecursiveCharacterTextSplitter"
   ]
  },
  {
   "cell_type": "code",
   "execution_count": 21,
   "id": "a6430d30",
   "metadata": {},
   "outputs": [],
   "source": [
    "def load_pdf_file(data):\n",
    "    loader = DirectoryLoader(data, glob=\"*.pdf\",loader_cls=PyPDFLoader)\n",
    "    documents = loader.load()\n",
    "    return documents    "
   ]
  },
  {
   "cell_type": "code",
   "execution_count": 22,
   "id": "d306f9ea",
   "metadata": {},
   "outputs": [],
   "source": [
    "extracted_data = load_pdf_file(data ='Data/')"
   ]
  },
  {
   "cell_type": "code",
   "execution_count": 23,
   "id": "1986815e",
   "metadata": {},
   "outputs": [
    {
     "data": {
      "text/plain": [
       "637"
      ]
     },
     "execution_count": 23,
     "metadata": {},
     "output_type": "execute_result"
    }
   ],
   "source": [
    "len(extracted_data)"
   ]
  },
  {
   "cell_type": "markdown",
   "id": "017170fc",
   "metadata": {},
   "source": [
    "# split the data into text chunk"
   ]
  },
  {
   "cell_type": "code",
   "execution_count": 24,
   "id": "252fd5ff",
   "metadata": {},
   "outputs": [],
   "source": [
    "def text_split(extracted_data):\n",
    "    text_splitter=RecursiveCharacterTextSplitter(chunk_size=500, chunk_overlap=20)\n",
    "    text_chunks=text_splitter.split_documents(extracted_data)\n",
    "    return text_chunks"
   ]
  },
  {
   "cell_type": "code",
   "execution_count": 25,
   "id": "d1f007e8",
   "metadata": {},
   "outputs": [
    {
     "data": {
      "text/plain": [
       "5859"
      ]
     },
     "execution_count": 25,
     "metadata": {},
     "output_type": "execute_result"
    }
   ],
   "source": [
    "text_chunks =text_split(extracted_data)\n",
    "len(text_chunks)"
   ]
  },
  {
   "cell_type": "markdown",
   "id": "10e29e75",
   "metadata": {},
   "source": [
    "# Embedding from HF"
   ]
  },
  {
   "cell_type": "code",
   "execution_count": 26,
   "id": "21cae277",
   "metadata": {},
   "outputs": [],
   "source": [
    "from langchain.embeddings import HuggingFaceEmbeddings"
   ]
  },
  {
   "cell_type": "code",
   "execution_count": 27,
   "id": "6f8a5ef8",
   "metadata": {},
   "outputs": [],
   "source": [
    "def download_hugging_face_embedding():\n",
    "    embeddings = HuggingFaceEmbeddings(model_name='sentence-transformers/all-MiniLM-L6-v2')\n",
    "    return embeddings"
   ]
  },
  {
   "cell_type": "code",
   "execution_count": 28,
   "id": "a88de64f",
   "metadata": {},
   "outputs": [
    {
     "name": "stderr",
     "output_type": "stream",
     "text": [
      "C:\\Users\\Roshith\\AppData\\Local\\Temp\\ipykernel_20684\\1183320502.py:2: LangChainDeprecationWarning: The class `HuggingFaceEmbeddings` was deprecated in LangChain 0.2.2 and will be removed in 1.0. An updated version of the class exists in the :class:`~langchain-huggingface package and should be used instead. To use it run `pip install -U :class:`~langchain-huggingface` and import as `from :class:`~langchain_huggingface import HuggingFaceEmbeddings``.\n",
      "  embeddings = HuggingFaceEmbeddings(model_name='sentence-transformers/all-MiniLM-L6-v2')\n"
     ]
    }
   ],
   "source": [
    "embeddings = download_hugging_face_embedding()"
   ]
  },
  {
   "cell_type": "code",
   "execution_count": 29,
   "id": "8518b5c6",
   "metadata": {},
   "outputs": [
    {
     "data": {
      "text/plain": [
       "384"
      ]
     },
     "execution_count": 29,
     "metadata": {},
     "output_type": "execute_result"
    }
   ],
   "source": [
    "a = embeddings.embed_query(\"hallo\")\n",
    "len(a)"
   ]
  },
  {
   "cell_type": "code",
   "execution_count": 54,
   "id": "e41b42bb",
   "metadata": {},
   "outputs": [
    {
     "data": {
      "text/plain": [
       "True"
      ]
     },
     "execution_count": 54,
     "metadata": {},
     "output_type": "execute_result"
    }
   ],
   "source": [
    "from dotenv import load_dotenv\n",
    "load_dotenv()"
   ]
  },
  {
   "cell_type": "code",
   "execution_count": 55,
   "id": "37fe7b5a",
   "metadata": {},
   "outputs": [],
   "source": [
    "PINECONE_API_KEY = os.environ.get(\"PINECONE_API_KEY\")\n",
    "TOGETHER_API_KEY = os.environ.get(\"TOGETHER_API_KEY\")"
   ]
  },
  {
   "cell_type": "code",
   "execution_count": 56,
   "id": "cd25767d",
   "metadata": {},
   "outputs": [
    {
     "data": {
      "text/plain": [
       "{\n",
       "    \"name\": \"medicalbot\",\n",
       "    \"metric\": \"cosine\",\n",
       "    \"host\": \"medicalbot-v45evji.svc.aped-4627-b74a.pinecone.io\",\n",
       "    \"spec\": {\n",
       "        \"serverless\": {\n",
       "            \"cloud\": \"aws\",\n",
       "            \"region\": \"us-east-1\"\n",
       "        }\n",
       "    },\n",
       "    \"status\": {\n",
       "        \"ready\": true,\n",
       "        \"state\": \"Ready\"\n",
       "    },\n",
       "    \"vector_type\": \"dense\",\n",
       "    \"dimension\": 384,\n",
       "    \"deletion_protection\": \"disabled\",\n",
       "    \"tags\": null\n",
       "}"
      ]
     },
     "execution_count": 56,
     "metadata": {},
     "output_type": "execute_result"
    }
   ],
   "source": [
    "from pinecone import Pinecone, ServerlessSpec\n",
    "\n",
    "pc = Pinecone(api_key=PINECONE_API_KEY)\n",
    "\n",
    "\n",
    "index_name = \"medicalbot\"\n",
    "\n",
    "pc.create_index(\n",
    "    name=index_name,\n",
    "    dimension=384, # Replace with your model dimensions\n",
    "    metric=\"cosine\", # Replace with your model metric\n",
    "    spec=ServerlessSpec(\n",
    "        cloud=\"aws\",\n",
    "        region=\"us-east-1\"\n",
    "    ) \n",
    ")"
   ]
  },
  {
   "cell_type": "code",
   "execution_count": 37,
   "id": "13ad8e99",
   "metadata": {},
   "outputs": [],
   "source": [
    "import os\n",
    "os.environ[\"PINECONE_API_KEY\"] = PINECONE_API_KEY\n",
    "os.environ[\"TOGETHER_API_KEY\"] = TOGETHER_API_KEY"
   ]
  },
  {
   "cell_type": "markdown",
   "id": "2cb9716f",
   "metadata": {},
   "source": [
    "# EMBED EACH CHUNKS AND INSERT EMBEDDINDS TO PINECONE DATABASE"
   ]
  },
  {
   "cell_type": "code",
   "execution_count": 57,
   "id": "65ae044d",
   "metadata": {},
   "outputs": [],
   "source": [
    "from langchain_pinecone import PineconeVectorStore\n",
    "\n",
    "docsearch = PineconeVectorStore.from_documents(\n",
    "    documents = text_chunks,\n",
    "    index_name = index_name,\n",
    "    embedding=embeddings\n",
    ")"
   ]
  },
  {
   "cell_type": "code",
   "execution_count": 58,
   "id": "db9db07e",
   "metadata": {},
   "outputs": [
    {
     "data": {
      "text/plain": [
       "<langchain_pinecone.vectorstores.PineconeVectorStore at 0x159444de8f0>"
      ]
     },
     "execution_count": 58,
     "metadata": {},
     "output_type": "execute_result"
    }
   ],
   "source": [
    "from langchain_pinecone import PineconeVectorStore\n",
    "\n",
    "docsearch = PineconeVectorStore.from_existing_index(\n",
    "    index_name = index_name,\n",
    "    embedding=embeddings\n",
    ")\n",
    "\n",
    "docsearch"
   ]
  },
  {
   "cell_type": "code",
   "execution_count": 59,
   "id": "3bcb47a4",
   "metadata": {},
   "outputs": [],
   "source": [
    "retriever = docsearch.as_retriever(search_type =\"similarity\", search_kwargs={\"k\":5})"
   ]
  },
  {
   "cell_type": "code",
   "execution_count": 60,
   "id": "79860852",
   "metadata": {},
   "outputs": [],
   "source": [
    "retrieved_answer = retriever.invoke(\"what is pimples\")"
   ]
  },
  {
   "cell_type": "code",
   "execution_count": 61,
   "id": "df5772a9",
   "metadata": {},
   "outputs": [
    {
     "data": {
      "text/plain": [
       "[Document(id='a47894e0-4c39-400e-873e-865869289fff', metadata={'creationdate': '2004-12-18T17:00:02-05:00', 'creator': 'PyPDF', 'moddate': '2004-12-18T16:15:31-06:00', 'page': 37.0, 'page_label': '38', 'producer': 'PDFlib+PDI 5.0.0 (SunOS)', 'source': 'Data\\\\medical_book.pdf', 'total_pages': 637.0}, page_content='skin. A pimple forms when the damaged follicle weakens\\nand bursts open, releasing sebum, bacteria, and skin and\\nwhite blood cells into the surrounding tissues. Inflamed\\npimples near the skin’s surface are called papules; when\\ndeeper, they are called pustules. The most severe type of\\nacne consists of cysts (closed sacs) and nodules (hard\\nswellings). Scarring occurs when new skin cells are laid\\ndown to replace damaged cells.\\nThe most common sites of acne are the face, chest,'),\n",
       " Document(id='f2c92462-8777-4249-a34a-72fc053fe7da', metadata={'creationdate': '2004-12-18T17:00:02-05:00', 'creator': 'PyPDF', 'moddate': '2004-12-18T16:15:31-06:00', 'page': 37.0, 'page_label': '38', 'producer': 'PDFlib+PDI 5.0.0 (SunOS)', 'source': 'Data\\\\medical_book.pdf', 'total_pages': 637.0}, page_content='Acidosis see Respiratory acidosis; Renal\\ntubular acidosis; Metabolic acidosis\\nAcne\\nDefinition\\nAcne is a common skin disease characterized by\\npimples on the face, chest, and back. It occurs when the\\npores of the skin become clogged with oil, dead skin\\ncells, and bacteria.\\nDescription\\nAcne vulgaris, the medical term for common acne, is\\nthe most common skin disease. It affects nearly 17 million\\npeople in the United States. While acne can arise at any'),\n",
       " Document(id='db64a14d-e34e-4f8e-9a6c-46a96fdd2031', metadata={'creationdate': '2004-12-18T17:00:02-05:00', 'creator': 'PyPDF', 'moddate': '2004-12-18T16:15:31-06:00', 'page': 241.0, 'page_label': '242', 'producer': 'PDFlib+PDI 5.0.0 (SunOS)', 'source': 'Data\\\\medical_book.pdf', 'total_pages': 637.0}, page_content='KEY TERMS\\nAcne—A skin condition in which raised bumps,\\npimples, and cysts form on the face, neck, shoul-\\nders and upper back.\\nBacteria—Tiny, one-celled forms of life that cause\\nmany diseases and infections.\\nBowel—The intestine; a tube-like structure that\\nextends from the stomach to the anus. Some diges-\\ntive processes are carried out in the bowel before\\nfood passes out of the body as waste.\\nCyst—An abnormal sac or enclosed cavity in the\\nbody, filled with liquid or partially solid material.'),\n",
       " Document(id='17f12497-6507-45f3-a518-4ffb4a794682', metadata={'creationdate': '2004-12-18T17:00:02-05:00', 'creator': 'PyPDF', 'moddate': '2004-12-18T16:15:31-06:00', 'page': 239.0, 'page_label': '240', 'producer': 'PDFlib+PDI 5.0.0 (SunOS)', 'source': 'Data\\\\medical_book.pdf', 'total_pages': 637.0}, page_content='inflamed are whiteheads or blackheads. When they\\nbecome inflamed, they turn into pimples. Pimples that\\nfill with pus are called pustules.\\nAcne cannot be cured, but acne drugs can help clear\\nthe skin. Benzoyl peroxide and tretinoin work by mildly\\nirritating the skin. This encourages skin cells to slough\\noff, which helps open blocked pores. Benzoyl peroxide\\nalso kills bacteria, which helps prevent whiteheads and\\nblackheads from turning into pimples. Isotretinoin'),\n",
       " Document(id='996d2bd9-6e35-426c-b264-f4206d911c65', metadata={'creationdate': '2004-12-18T17:00:02-05:00', 'creator': 'PyPDF', 'moddate': '2004-12-18T16:15:31-06:00', 'page': 241.0, 'page_label': '242', 'producer': 'PDFlib+PDI 5.0.0 (SunOS)', 'source': 'Data\\\\medical_book.pdf', 'total_pages': 637.0}, page_content='Eczema—Inflammation of the skin with itching\\nand a rash. The rash may have blisters that ooze\\nand form crusts.\\nPimple—A small, red swelling of the skin.\\nPsoriasis —A skin disease in which people have\\nitchy, scaly, red patches on the skin.\\nPus—Thick, whitish or yellowish fluid that forms\\nin infected tissue.\\nTriglyceride —A substance formed in the body\\nfrom fat in the diet.\\nand stinging, and a warm feeling to the skin. These prob-\\nlems usually go away as the body adjusts to the drug and')]"
      ]
     },
     "execution_count": 61,
     "metadata": {},
     "output_type": "execute_result"
    }
   ],
   "source": [
    "retrieved_answer"
   ]
  },
  {
   "cell_type": "code",
   "execution_count": 47,
   "id": "14fe75ec",
   "metadata": {},
   "outputs": [],
   "source": [
    "# from langchain_openai import OpenAI\n",
    "# llm = OpenAI(temperature=0.4, max_tokens=500)\n",
    "\n",
    "from langchain.chat_models import ChatOpenAI\n",
    "import os\n",
    "from dotenv import load_dotenv\n",
    "\n",
    "load_dotenv()\n",
    "together_api_key = os.getenv(\"TOGETHER_API_KEY\")\n",
    "\n",
    "llm = ChatOpenAI(\n",
    "    model_name=\"mistralai/Mixtral-8x7B-Instruct-v0.1\"\n",
    ",  # You can use other supported models too\n",
    "    openai_api_base=\"https://api.together.xyz/v1\",\n",
    "    openai_api_key=together_api_key,\n",
    "    temperature=0.4,\n",
    "    max_tokens=500,\n",
    ")\n"
   ]
  },
  {
   "cell_type": "code",
   "execution_count": 48,
   "id": "6c2a97f8",
   "metadata": {},
   "outputs": [],
   "source": [
    "from langchain.chains import create_retrieval_chain\n",
    "from langchain.chains.combine_documents import create_stuff_documents_chain\n",
    "from langchain_core.prompts import ChatPromptTemplate\n",
    "\n",
    "\n",
    "system_prompt = (\n",
    "    \"You are an assistant for question-answering tasks. \"\n",
    "    \"Use the following pieces of retrieved context to answer \"\n",
    "    \"the question. If you don't know the answer, say that you \"\n",
    "    \"don't know. Use three sentences maximum and keep the \"\n",
    "    \"answer concise.\"\n",
    "    \"\\n\\n\"\n",
    "    \"{context}\"\n",
    ")\n",
    "\n",
    "\n",
    "prompt = ChatPromptTemplate.from_messages(\n",
    "    [\n",
    "        (\"system\", system_prompt),\n",
    "        (\"human\", \"{input}\"),\n",
    "    ]\n",
    ")"
   ]
  },
  {
   "cell_type": "code",
   "execution_count": 49,
   "id": "b14f65bd",
   "metadata": {},
   "outputs": [],
   "source": [
    "question_answer_chain = create_stuff_documents_chain(llm, prompt)\n",
    "rag_chain = create_retrieval_chain(retriever, question_answer_chain)"
   ]
  },
  {
   "cell_type": "code",
   "execution_count": 53,
   "id": "0f94f49f",
   "metadata": {},
   "outputs": [
    {
     "name": "stdout",
     "output_type": "stream",
     "text": [
      " Gigantism is a condition of exceptional growth in children, caused by an abnormal release of growth hormone (GH) from the pituitary gland before the bones have stopped growing. It is a variant of acromegaly. The text does not provide information on how to cure gigantism. However, acromegaly and gigantism are typically treated by controlling the excess GH, often through surgery, medication, or radiation therapy. Please consult a healthcare professional for medical advice.\n"
     ]
    }
   ],
   "source": [
    "response = rag_chain.invoke({\"input\": \"what is gigantism and how to cure?\"})\n",
    "print(response[\"answer\"])"
   ]
  },
  {
   "cell_type": "code",
   "execution_count": 62,
   "id": "57424cd0",
   "metadata": {},
   "outputs": [
    {
     "name": "stderr",
     "output_type": "stream",
     "text": [
      "2025-05-15 11:49:36.300 WARNING streamlit.runtime.scriptrunner_utils.script_run_context: Thread 'MainThread': missing ScriptRunContext! This warning can be ignored when running in bare mode.\n",
      "2025-05-15 11:49:36.411 \n",
      "  \u001b[33m\u001b[1mWarning:\u001b[0m to view this Streamlit app on a browser, run it with the following\n",
      "  command:\n",
      "\n",
      "    streamlit run d:\\CDAC\\RSN\\PROJECT\\Medical-AI-Chatbot\\medibot\\lib\\site-packages\\ipykernel_launcher.py [ARGUMENTS]\n",
      "2025-05-15 11:49:36.412 Thread 'MainThread': missing ScriptRunContext! This warning can be ignored when running in bare mode.\n",
      "2025-05-15 11:49:36.412 Thread 'MainThread': missing ScriptRunContext! This warning can be ignored when running in bare mode.\n",
      "2025-05-15 11:49:36.413 Thread 'MainThread': missing ScriptRunContext! This warning can be ignored when running in bare mode.\n",
      "2025-05-15 11:50:04.280 Thread 'MainThread': missing ScriptRunContext! This warning can be ignored when running in bare mode.\n",
      "2025-05-15 11:50:04.289 Thread 'MainThread': missing ScriptRunContext! This warning can be ignored when running in bare mode.\n",
      "2025-05-15 11:51:52.440 Thread 'MainThread': missing ScriptRunContext! This warning can be ignored when running in bare mode.\n",
      "2025-05-15 11:51:52.440 Thread 'MainThread': missing ScriptRunContext! This warning can be ignored when running in bare mode.\n",
      "2025-05-15 11:51:52.440 Thread 'MainThread': missing ScriptRunContext! This warning can be ignored when running in bare mode.\n",
      "2025-05-15 11:51:52.440 Thread 'MainThread': missing ScriptRunContext! This warning can be ignored when running in bare mode.\n",
      "2025-05-15 11:51:52.440 Thread 'MainThread': missing ScriptRunContext! This warning can be ignored when running in bare mode.\n",
      "2025-05-15 11:51:52.440 Thread 'MainThread': missing ScriptRunContext! This warning can be ignored when running in bare mode.\n",
      "2025-05-15 11:51:52.440 Thread 'MainThread': missing ScriptRunContext! This warning can be ignored when running in bare mode.\n",
      "2025-05-15 11:51:52.440 Thread 'MainThread': missing ScriptRunContext! This warning can be ignored when running in bare mode.\n",
      "2025-05-15 11:51:52.440 Thread 'MainThread': missing ScriptRunContext! This warning can be ignored when running in bare mode.\n",
      "2025-05-15 11:51:52.440 Thread 'MainThread': missing ScriptRunContext! This warning can be ignored when running in bare mode.\n",
      "2025-05-15 11:51:52.440 Session state does not function when running a script without `streamlit run`\n",
      "2025-05-15 11:51:52.440 Thread 'MainThread': missing ScriptRunContext! This warning can be ignored when running in bare mode.\n",
      "2025-05-15 11:51:52.440 Thread 'MainThread': missing ScriptRunContext! This warning can be ignored when running in bare mode.\n"
     ]
    }
   ],
   "source": [
    "import streamlit as st\n",
    "from dotenv import load_dotenv\n",
    "import os\n",
    "\n",
    "from langchain.document_loaders import PyPDFLoader, DirectoryLoader\n",
    "from langchain_text_splitters import RecursiveCharacterTextSplitter\n",
    "from langchain.embeddings import HuggingFaceEmbeddings\n",
    "from langchain_pinecone import PineconeVectorStore\n",
    "from pinecone import Pinecone, ServerlessSpec\n",
    "from langchain.chat_models import ChatOpenAI\n",
    "from langchain.chains import create_retrieval_chain\n",
    "from langchain.chains.combine_documents import create_stuff_documents_chain\n",
    "from langchain_core.prompts import ChatPromptTemplate\n",
    "\n",
    "# Load API keys\n",
    "load_dotenv()\n",
    "PINECONE_API_KEY = os.getenv(\"PINECONE_API_KEY\")\n",
    "TOGETHER_API_KEY = os.getenv(\"TOGETHER_API_KEY\")\n",
    "\n",
    "st.write(f\"Pinecone Key Loaded: {PINECONE_API_KEY is not None}\")\n",
    "st.write(f\"Together Key Loaded: {TOGETHER_API_KEY is not None}\")\n",
    "\n",
    "\n",
    "# Set up LLM (Together AI)\n",
    "llm = ChatOpenAI(\n",
    "    model_name=\"mistralai/Mixtral-8x7B-Instruct-v0.1\",\n",
    "    openai_api_base=\"https://api.together.xyz/v1\",\n",
    "    openai_api_key=TOGETHER_API_KEY,\n",
    "    temperature=0.4,\n",
    "    max_tokens=500,\n",
    ")\n",
    "\n",
    "# Load PDFs and create vector DB (only once)\n",
    "# @st.cache_resource\n",
    "def setup_vector_store():\n",
    "    loader = DirectoryLoader('data/', glob=\"*.pdf\", loader_cls=PyPDFLoader)\n",
    "    documents = loader.load()\n",
    "    documents = loader.load()\n",
    "    st.write(f\"Loaded {len(documents)} documents.\")\n",
    "\n",
    "    splitter = RecursiveCharacterTextSplitter(chunk_size=500, chunk_overlap=20)\n",
    "    chunks = splitter.split_documents(documents)\n",
    "    embeddings = HuggingFaceEmbeddings(model_name='sentence-transformers/all-MiniLM-L6-v2')\n",
    "\n",
    "    pc = Pinecone(api_key=PINECONE_API_KEY)\n",
    "    index_name = \"medicalbot\"\n",
    "    if index_name not in pc.list_indexes().names():\n",
    "        pc.create_index(\n",
    "            name=index_name,\n",
    "            dimension=384,\n",
    "            metric=\"cosine\",\n",
    "            spec=ServerlessSpec(cloud=\"aws\", region=\"us-east-1\")\n",
    "        )\n",
    "\n",
    "    vectorstore = PineconeVectorStore.from_documents(\n",
    "        documents=chunks,\n",
    "        index_name=index_name,\n",
    "        embedding=embeddings\n",
    "    )\n",
    "    return vectorstore\n",
    "\n",
    "docsearch = setup_vector_store()\n",
    "st.write(\"Initializing vector store...\")\n",
    "\n",
    "retriever = docsearch.as_retriever(search_type=\"similarity\", search_kwargs={\"k\": 5})\n",
    "\n",
    "# Setup RAG chain\n",
    "system_prompt = (\n",
    "    \"You are an assistant for medical question-answering tasks. \"\n",
    "    \"Use the following pieces of retrieved context to answer. \"\n",
    "    \"If you don't know the answer, say so. \"\n",
    "    \"Use concise language, maximum three sentences.\\n\\n{context}\"\n",
    ")\n",
    "\n",
    "prompt = ChatPromptTemplate.from_messages([\n",
    "    (\"system\", system_prompt),\n",
    "    (\"human\", \"{input}\"),\n",
    "])\n",
    "qa_chain = create_stuff_documents_chain(llm, prompt)\n",
    "rag_chain = create_retrieval_chain(retriever, qa_chain)\n",
    "\n",
    "# UI\n",
    "st.title(\"Medical AI Chatbot\")\n",
    "st.write(\"Ask any medical question based on the uploaded documents.\")\n",
    "\n",
    "user_input = st.text_input(\"Enter your medical question here...\")\n",
    "\n",
    "if user_input:\n",
    "    with st.spinner(\"Thinking...\"):\n",
    "        response = rag_chain.invoke({\"input\": user_input})\n",
    "        st.success(response[\"answer\"])\n"
   ]
  }
 ],
 "metadata": {
  "kernelspec": {
   "display_name": "medibot",
   "language": "python",
   "name": "python3"
  },
  "language_info": {
   "codemirror_mode": {
    "name": "ipython",
    "version": 3
   },
   "file_extension": ".py",
   "mimetype": "text/x-python",
   "name": "python",
   "nbconvert_exporter": "python",
   "pygments_lexer": "ipython3",
   "version": "3.10.7"
  }
 },
 "nbformat": 4,
 "nbformat_minor": 5
}
